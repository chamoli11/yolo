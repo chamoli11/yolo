{
  "nbformat": 4,
  "nbformat_minor": 0,
  "metadata": {
    "colab": {
      "name": "YOLO.ipynb",
      "provenance": [],
      "collapsed_sections": [],
      "authorship_tag": "ABX9TyN2iF3Cevxmpgb+dMrOcxWJ",
      "include_colab_link": true
    },
    "kernelspec": {
      "name": "python3",
      "display_name": "Python 3"
    },
    "language_info": {
      "name": "python"
    },
    "accelerator": "GPU",
    "gpuClass": "standard"
  },
  "cells": [
    {
      "cell_type": "markdown",
      "metadata": {
        "id": "view-in-github",
        "colab_type": "text"
      },
      "source": [
        "<a href=\"https://colab.research.google.com/github/chamoli11/yolo/blob/main/YOLO.ipynb\" target=\"_parent\"><img src=\"https://colab.research.google.com/assets/colab-badge.svg\" alt=\"Open In Colab\"/></a>"
      ]
    },
    {
      "cell_type": "code",
      "execution_count": null,
      "metadata": {
        "id": "vS-Ss3cwGuyt"
      },
      "outputs": [],
      "source": [
        "import torch as py"
      ]
    },
    {
      "cell_type": "code",
      "source": [
        "!git clone https://github.com/ultralytics/yolov5\n"
      ],
      "metadata": {
        "id": "XZwfru_1oIID"
      },
      "execution_count": null,
      "outputs": []
    },
    {
      "cell_type": "code",
      "source": [
        "import matplotlib\n",
        "import numpy\n",
        "!pip install opencv-python\n",
        "!pip install Pillow\n",
        "!pip install PyYAML\n",
        "!pip install requests\n",
        "!pip install torch\n",
        "!pip installt scipy\n",
        "!pip install torchvision\n",
        "!pip install tqdm\n",
        "!pip install protobuf\n"
      ],
      "metadata": {
        "id": "UH8sRdAAo1Hu"
      },
      "execution_count": null,
      "outputs": []
    },
    {
      "cell_type": "code",
      "source": [
        "from matplotlib import pyplot as plt\n",
        "import numpy as np\n",
        "import cv2"
      ],
      "metadata": {
        "id": "f8mNu_FrpMLx"
      },
      "execution_count": null,
      "outputs": []
    },
    {
      "cell_type": "code",
      "source": [
        "model= py.hub.load('ultralytics/yolov5','yolov5s')"
      ],
      "metadata": {
        "id": "gt29UEtfpmL_"
      },
      "execution_count": null,
      "outputs": []
    },
    {
      "cell_type": "code",
      "source": [
        "img= 'https://media.istockphoto.com/photos/aerial-view-of-cars-in-traffic-picture-id159406920'\n",
        "result= model(img)\n",
        "print(result)"
      ],
      "metadata": {
        "id": "WTKvOjqiqOhl"
      },
      "execution_count": null,
      "outputs": []
    },
    {
      "cell_type": "code",
      "source": [
        "%matplotlib inline\n",
        "plt.imshow(np.squeeze(result.render()))\n",
        "plt.show()"
      ],
      "metadata": {
        "id": "-CCRUR-drUrB"
      },
      "execution_count": null,
      "outputs": []
    },
    {
      "cell_type": "code",
      "source": [
        "result.xyxy"
      ],
      "metadata": {
        "id": "3X5lF6YesA9q"
      },
      "execution_count": null,
      "outputs": []
    },
    {
      "cell_type": "code",
      "source": [
        "plt.imshow(np.squeeze(result.render()))"
      ],
      "metadata": {
        "id": "OPflNr4JsNrj"
      },
      "execution_count": null,
      "outputs": []
    },
    {
      "cell_type": "code",
      "source": [
        "cap= cv2.VideoCapture(0)\n",
        "while cap.isOpened():\n",
        "  ret, frame= cap.read()\n",
        "  result= model(frame)\n",
        "  cv2.imshow('YOLO', np.squeeze(result.render()))\n",
        "\n",
        "  if cv2.waitKey(10) & 0xFF == ord('q'):\n",
        "    break\n",
        "cap.release()\n",
        "cv2.destroyAllWindows() "
      ],
      "metadata": {
        "id": "fvifNcQ-sTyL"
      },
      "execution_count": null,
      "outputs": []
    },
    {
      "cell_type": "code",
      "source": [
        ""
      ],
      "metadata": {
        "id": "m3zd-VPxIMZU"
      },
      "execution_count": null,
      "outputs": []
    },
    {
      "cell_type": "code",
      "source": [
        "import uuid\n",
        "import os\n",
        "import time"
      ],
      "metadata": {
        "id": "ROAxZyBowFEM"
      },
      "execution_count": null,
      "outputs": []
    },
    {
      "cell_type": "code",
      "source": [
        "IMAGES_PATH= os.path.join('data', 'images')\n",
        "labels=['awake', 'drowsy']\n",
        "number_imgs=20"
      ],
      "metadata": {
        "id": "X9LQbMtN0CrW"
      },
      "execution_count": null,
      "outputs": []
    },
    {
      "cell_type": "code",
      "source": [
        ""
      ],
      "metadata": {
        "id": "9WutHK7d6vvY"
      },
      "execution_count": null,
      "outputs": []
    },
    {
      "cell_type": "code",
      "source": [
        "from IPython.display import display, Javascript\n",
        "from google.colab.output import eval_js\n",
        "from base64 import b64decode\n",
        "\n",
        "def take_photo(filename='photo.jpg', quality=0.8):\n",
        "  js = Javascript('''\n",
        "    async function takePhoto(quality) {\n",
        "      const div = document.createElement('div');\n",
        "      const capture = document.createElement('button');\n",
        "      capture.textContent = 'Capture';\n",
        "      div.appendChild(capture);\n",
        "\n",
        "      const video = document.createElement('video');\n",
        "      video.style.display = 'block';\n",
        "      const stream = await navigator.mediaDevices.getUserMedia({video: true});\n",
        "\n",
        "      document.body.appendChild(div);\n",
        "      div.appendChild(video);\n",
        "      video.srcObject = stream;\n",
        "      await video.play();\n",
        "\n",
        "      // Resize the output to fit the video element.\n",
        "      google.colab.output.setIframeHeight(document.documentElement.scrollHeight, true);\n",
        "\n",
        "      // Wait for Capture to be clicked.\n",
        "      await new Promise((resolve) => capture.onclick = resolve);\n",
        "\n",
        "      const canvas = document.createElement('canvas');\n",
        "      canvas.width = video.videoWidth;\n",
        "      canvas.height = video.videoHeight;\n",
        "      canvas.getContext('2d').drawImage(video, 0, 0);\n",
        "      stream.getVideoTracks()[0].stop();\n",
        "      div.remove();\n",
        "      return canvas.toDataURL('image/jpeg', quality);\n",
        "    }\n",
        "    ''')\n",
        "  display(js)\n",
        "  data = eval_js('takePhoto({})'.format(quality))\n",
        "  binary = b64decode(data.split(',')[1])\n",
        "  with open(filename, 'wb') as f:\n",
        "    f.write(binary)\n",
        "  return filename"
      ],
      "metadata": {
        "id": "vJjMzDmw6y2s"
      },
      "execution_count": null,
      "outputs": []
    },
    {
      "cell_type": "code",
      "source": [
        "from IPython.display import Image\n",
        "try:\n",
        "  filename = take_photo()\n",
        "  print('Saved to {}'.format(filename))\n",
        "  \n",
        "  # Show the image which was just taken.\n",
        "  display(Image(filename))\n",
        "except Exception as err:\n",
        "  # Errors will be thrown if the user does not have a webcam or if they do not\n",
        "  # grant the page permission to access it.\n",
        "  print(str(err))"
      ],
      "metadata": {
        "id": "r7V4vByY6y2u"
      },
      "execution_count": null,
      "outputs": []
    },
    {
      "cell_type": "code",
      "source": [
        "cap= cv2.VideoCapture(0)\n",
        "for label in labels:\n",
        "  print('collecting images for {}'. format(label))\n",
        "  time.sleep(5)\n",
        "\n",
        "  for img_num in range(number_imgs):\n",
        "    print( 'collecting images for {} ,image number {} '.format(label, img_num))\n",
        "\n",
        "    ret, frame= cap.read( )\n",
        "    imgname=os.path.join(IMAGES_PATH, label + '.'+ str(uuid.uuid1())+'.jpg')\n",
        "\n",
        "\n",
        "    cv2.imwrite(imgname,frame)\n",
        "\n",
        "\n",
        "    cv2.imshow('Image Collection', frame)\n",
        "    time.sleep(2)\n",
        "    if cv2.waitKey(10) & 0xFF == ord('q'):\n",
        "      break\n",
        "cap.release()\n",
        "cv2.destroyAllWindows() "
      ],
      "metadata": {
        "id": "iBlc4mbZ2Jv5"
      },
      "execution_count": null,
      "outputs": []
    },
    {
      "cell_type": "code",
      "source": [
        "print(os.path.join(IMAGES_PATH, labels[0] + '.'+ str(uuid.uuid1())+'.jpg'))"
      ],
      "metadata": {
        "id": "vjb3xU6c9tK5"
      },
      "execution_count": null,
      "outputs": []
    },
    {
      "cell_type": "code",
      "source": [
        "for label in labels:\n",
        "  print('collecting images for {}'. format(label))\n",
        "  for img_num in range(number_imgs):\n",
        "    print( 'collecting images for {} ,image number {} '.format(label, img_num))\n",
        "    imgname=os.path.join(IMAGES_PATH, label + '.'+ str(uuid.uuid1()) +'.jpg')\n",
        "    print(imgname)"
      ],
      "metadata": {
        "id": "0y1X9wiO5Xhm"
      },
      "execution_count": null,
      "outputs": []
    },
    {
      "cell_type": "code",
      "source": [
        "!git clone http://github.com/tzutalin/labelImg"
      ],
      "metadata": {
        "id": "CyCGOs0C5jpX"
      },
      "execution_count": null,
      "outputs": []
    },
    {
      "cell_type": "code",
      "source": [
        "!pip install pyqt5 lxml --upgrade\n",
        "!cd labelImg && pyrcc5 -o libs/resources.py resources.qrc"
      ],
      "metadata": {
        "id": "tasMP7ltB3i2"
      },
      "execution_count": null,
      "outputs": []
    },
    {
      "cell_type": "code",
      "source": [
        "!cd yolov5 && python train.py --img 320 --batch 16 --epochs 500 --data dataset.yaml --weights yolov5s.pt --workers 2"
      ],
      "metadata": {
        "id": "d-IKlWLOBrli"
      },
      "execution_count": null,
      "outputs": []
    },
    {
      "cell_type": "code",
      "source": [
        "model= torch.hub.load('ultralytics/yolov5','custom',path='yolov5/runs/train/exp15/weights/last.pt',force_reload=True)"
      ],
      "metadata": {
        "id": "Zn0iColaCvbs"
      },
      "execution_count": null,
      "outputs": []
    },
    {
      "cell_type": "code",
      "source": [
        "img=os.path.join('data','images')\n",
        "results= model(img)\n",
        "results.print()"
      ],
      "metadata": {
        "id": "Rtwl79luH2O8"
      },
      "execution_count": null,
      "outputs": []
    },
    {
      "cell_type": "code",
      "source": [
        "cap= cv2.VideoCapture(0)\n",
        "while cap.isOpened():\n",
        "  ret, frame= cap.read()\n",
        "  result= model(frame)\n",
        "  cv2.imshow('YOLO', np.squeeze(result.render()))\n",
        "\n",
        "  if cv2.waitKey(10) & 0xFF == ord('q'):\n",
        "    break\n",
        "cap.release()\n",
        "cv2.destroyAllWindows() "
      ],
      "metadata": {
        "id": "SKYwC3dgIONV"
      },
      "execution_count": null,
      "outputs": []
    }
  ]
}